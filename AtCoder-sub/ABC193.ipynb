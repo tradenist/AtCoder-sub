{
 "cells": [
  {
   "cell_type": "markdown",
   "metadata": {},
   "source": [
    "# A"
   ]
  },
  {
   "cell_type": "code",
   "execution_count": 5,
   "metadata": {},
   "outputs": [
    {
     "name": "stdout",
     "output_type": "stream",
     "text": [
      "7 6\n",
      "14.285714285714285\n"
     ]
    }
   ],
   "source": [
    "a,b=map(int,input().split())\n",
    "print((a-b)/a*100)"
   ]
  },
  {
   "cell_type": "markdown",
   "metadata": {},
   "source": [
    "# B"
   ]
  },
  {
   "cell_type": "code",
   "execution_count": null,
   "metadata": {},
   "outputs": [],
   "source": [
    "n=int(input())\n",
    "\n",
    "price=float(\"inf\")\n",
    "for _ in range(n):\n",
    "    a,p,x=[int(i) for i in input().split()]\n",
    "    if a<x:\n",
    "        price=min(price,p)\n",
    "\n",
    "print(-1 if price==float(\"inf\") else price)"
   ]
  },
  {
   "cell_type": "markdown",
   "metadata": {},
   "source": [
    "# C"
   ]
  },
  {
   "cell_type": "code",
   "execution_count": null,
   "metadata": {},
   "outputs": [],
   "source": [
    "n=int(input())\n",
    "a=set()\n",
    "for i in range(2,int(n**0.5)+1):\n",
    "    for j in range(2,100):\n",
    "        q=i**j\n",
    "        if q>n:\n",
    "            break\n",
    "        a.add(q)\n",
    "print(n-len(a))"
   ]
  },
  {
   "cell_type": "markdown",
   "metadata": {},
   "source": [
    "# D"
   ]
  },
  {
   "cell_type": "code",
   "execution_count": 39,
   "metadata": {},
   "outputs": [
    {
     "name": "stdout",
     "output_type": "stream",
     "text": [
      "2\n",
      "1144\n",
      "2233#\n",
      "0.4444444444444444\n"
     ]
    }
   ],
   "source": [
    "#81枚分の組み合わせを全探索、確率とスコアをセットで見ればよさそう\n",
    "\n",
    "k=int(input())\n",
    "s=input()\n",
    "t=input()\n",
    "\n",
    "maisuu=[k - s.count(str(i))-t.count(str(i)) for i in range(10)]\n",
    "maisuu[0]=0\n",
    "\n",
    "def point(q):\n",
    "    return sum([i*10**q.count(str(i)) for i in range(1,10)])\n",
    "\n",
    "ans=0 # 組み合わせの数を入れる\n",
    "for i in range(1,10):\n",
    "    if maisuu[i]==0:\n",
    "        continue\n",
    "    for j in range(1,10):\n",
    "        if maisuu[j]==0:\n",
    "            continue\n",
    "        s_i=s[:4]+str(i)\n",
    "        t_j=t[:4]+str(j)\n",
    "        if point(s_i)>point(t_j):\n",
    "            if i==j:\n",
    "                if maisuu[i]>=2:\n",
    "                    ans+=maisuu[i]*(maisuu[i]-1)\n",
    "            else:\n",
    "                ans+=maisuu[i]*maisuu[j]\n",
    "                \n",
    "print(ans/(sum(maisuu)*(sum(maisuu)-1)))"
   ]
  },
  {
   "cell_type": "code",
   "execution_count": null,
   "metadata": {},
   "outputs": [],
   "source": [
    "E"
   ]
  },
  {
   "cell_type": "code",
   "execution_count": null,
   "metadata": {},
   "outputs": [],
   "source": []
  }
 ],
 "metadata": {
  "kernelspec": {
   "display_name": "Python 3",
   "language": "python",
   "name": "python3"
  },
  "language_info": {
   "codemirror_mode": {
    "name": "ipython",
    "version": 3
   },
   "file_extension": ".py",
   "mimetype": "text/x-python",
   "name": "python",
   "nbconvert_exporter": "python",
   "pygments_lexer": "ipython3",
   "version": "3.8.3"
  }
 },
 "nbformat": 4,
 "nbformat_minor": 4
}
