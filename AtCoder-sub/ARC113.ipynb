{
 "cells": [
  {
   "cell_type": "markdown",
   "metadata": {},
   "source": [
    "# A問題"
   ]
  },
  {
   "cell_type": "code",
   "execution_count": 39,
   "metadata": {},
   "outputs": [
    {
     "name": "stdout",
     "output_type": "stream",
     "text": [
      "200000\n",
      "16782730\n"
     ]
    }
   ],
   "source": [
    "k=int(input())\n",
    "ans=0\n",
    "for i in range(1,k+1):\n",
    "    for j in range(i,k//i+1):\n",
    "        p=k//(i*j)\n",
    "        if i==j:\n",
    "            ans+=p\n",
    "        else:\n",
    "            ans+=2*p\n",
    "print(ans)"
   ]
  },
  {
   "cell_type": "markdown",
   "metadata": {},
   "source": [
    "# B問題"
   ]
  },
  {
   "cell_type": "code",
   "execution_count": null,
   "metadata": {},
   "outputs": [],
   "source": [
    "Aの一桁目が何乗されるか知りたい\n",
    "Aの1桁目は特定乗ごとに値がループする このループ長をa_looplenとする\n",
    "a^(b^cをa_looplenで割ったあまり)を知ればよい ただしあまりが0の時はa_looplen乗したい\n",
    "\n",
    "(b^cをa_looplenで割ったあまり)=(b%a_looplen)^c ただしb%a_looplen＝0の時はa_looplen乗としたい\n",
    "⇒((b-1)%a_roopcnt+1)^cを求めることにした\n",
    "\n",
    "b2 = (b-1)%a_roopcnt+1　を何回かけるとループするかが分かれば、\n",
    "b2^c=b2^((c-1)%b2_looplen+1) で計算できる\n",
    "\n",
    "これを逆にたどって、\n",
    "b2^cが分かった\n",
    "⇒a^(b2^c)が計算できる\n",
    "⇒計算して一の位を調べればよい"
   ]
  },
  {
   "cell_type": "code",
   "execution_count": 116,
   "metadata": {},
   "outputs": [
    {
     "name": "stdout",
     "output_type": "stream",
     "text": [
      "9 2 2\n",
      "1\n"
     ]
    }
   ],
   "source": [
    "a,b,c=map(int,input().split())\n",
    "a=a%10\n",
    "\n",
    "# 一桁目の数字ごとのループ長\n",
    "loopdict={0:1,1:1,2:4,3:4,4:2,5:1,6:1,7:4,8:4,9:2}\n",
    "a_loopcnt=loopdict[a]\n",
    "\n",
    "b2=(b-1)%a_loopcnt+1\n",
    "if b2>b:\n",
    "    b2=b\n",
    "b2_loopcnt=loopdict[b2]\n",
    "\n",
    "bno_migiue=(c-1)%b2_loopcnt+1\n",
    "if bno_migiue>c:\n",
    "    bno_migiue=c\n",
    "\n",
    "ano_migiue=b2**bno_migiue\n",
    "ano_migiue=(ano_migiue-1)%b2_loopcnt+1\n",
    "if ano_migiue>b2**bno_migiue:\n",
    "    ano_migiue=b2**bno_migiue\n",
    "\n",
    "print((a**ano_migiue)%10)"
   ]
  },
  {
   "cell_type": "code",
   "execution_count": 108,
   "metadata": {},
   "outputs": [
    {
     "data": {
      "text/plain": [
       "81"
      ]
     },
     "execution_count": 108,
     "metadata": {},
     "output_type": "execute_result"
    }
   ],
   "source": [
    "a**(b**c)"
   ]
  },
  {
   "cell_type": "code",
   "execution_count": 109,
   "metadata": {},
   "outputs": [
    {
     "data": {
      "text/plain": [
       "2"
      ]
     },
     "execution_count": 109,
     "metadata": {},
     "output_type": "execute_result"
    }
   ],
   "source": [
    "(b-1)%a_loopcnt+1"
   ]
  },
  {
   "cell_type": "code",
   "execution_count": 114,
   "metadata": {},
   "outputs": [
    {
     "data": {
      "text/plain": [
       "2"
      ]
     },
     "execution_count": 114,
     "metadata": {},
     "output_type": "execute_result"
    }
   ],
   "source": [
    "b2**bno_migiue"
   ]
  },
  {
   "cell_type": "code",
   "execution_count": 60,
   "metadata": {},
   "outputs": [],
   "source": [
    "# E問題"
   ]
  },
  {
   "cell_type": "code",
   "execution_count": 85,
   "metadata": {},
   "outputs": [
    {
     "data": {
      "text/plain": [
       "0"
      ]
     },
     "execution_count": 85,
     "metadata": {},
     "output_type": "execute_result"
    }
   ],
   "source": [
    "(0**10)%10"
   ]
  },
  {
   "cell_type": "code",
   "execution_count": 80,
   "metadata": {},
   "outputs": [
    {
     "name": "stdout",
     "output_type": "stream",
     "text": [
      "16\n"
     ]
    }
   ],
   "source": [
    "ans=0\n",
    "nuritubu_now=\"\"\n",
    "for i in range(1,len(s)):\n",
    "    if s[-i]==s[-i-1] and nuritubu_now!=s[-i]:\n",
    "        nuritubu_now=s[-i]\n",
    "        ans += i-1 -s[-i+1:].count(nuritubu_now)\n",
    "print(ans)        "
   ]
  },
  {
   "cell_type": "code",
   "execution_count": 78,
   "metadata": {},
   "outputs": [
    {
     "data": {
      "text/plain": [
       "15"
      ]
     },
     "execution_count": 78,
     "metadata": {},
     "output_type": "execute_result"
    }
   ],
   "source": [
    "len()\n",
    "        "
   ]
  },
  {
   "cell_type": "code",
   "execution_count": 79,
   "metadata": {},
   "outputs": [
    {
     "data": {
      "text/plain": [
       "15"
      ]
     },
     "execution_count": 79,
     "metadata": {},
     "output_type": "execute_result"
    }
   ],
   "source": [
    "len(s)"
   ]
  },
  {
   "cell_type": "code",
   "execution_count": null,
   "metadata": {},
   "outputs": [],
   "source": []
  }
 ],
 "metadata": {
  "kernelspec": {
   "display_name": "Python 3",
   "language": "python",
   "name": "python3"
  },
  "language_info": {
   "codemirror_mode": {
    "name": "ipython",
    "version": 3
   },
   "file_extension": ".py",
   "mimetype": "text/x-python",
   "name": "python",
   "nbconvert_exporter": "python",
   "pygments_lexer": "ipython3",
   "version": "3.8.3"
  }
 },
 "nbformat": 4,
 "nbformat_minor": 4
}
