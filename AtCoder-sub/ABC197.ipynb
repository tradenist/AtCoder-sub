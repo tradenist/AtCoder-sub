{
 "cells": [
  {
   "cell_type": "markdown",
   "metadata": {},
   "source": [
    "# A"
   ]
  },
  {
   "cell_type": "code",
   "execution_count": null,
   "metadata": {},
   "outputs": [],
   "source": [
    "s=input()\n",
    "print(s[1:]+s[0])"
   ]
  },
  {
   "cell_type": "markdown",
   "metadata": {},
   "source": [
    "# B"
   ]
  },
  {
   "cell_type": "code",
   "execution_count": null,
   "metadata": {},
   "outputs": [],
   "source": [
    "import numpy as np\n",
    "h,q,x,y=map(int,input().split())\n",
    "a=np.array([list(input()) for _ in range(h)])\n",
    "\n",
    "x-=1\n",
    "y-=1\n",
    "\n",
    "def find_index(l):\n",
    "    if \"#\" in l:\n",
    "        return l.index(\"#\")\n",
    "    else:\n",
    "        return len(l)\n",
    "\n",
    "ans=1\n",
    "for l in [list(a[x,y+1:]),list(a[x,:y])[::-1],list(a[:x,y])[::-1],list(a[x+1:,y])]:\n",
    "    ans+=find_index(l)\n",
    "print(ans)"
   ]
  },
  {
   "cell_type": "markdown",
   "metadata": {},
   "source": [
    "# C"
   ]
  },
  {
   "cell_type": "code",
   "execution_count": 17,
   "metadata": {},
   "outputs": [
    {
     "name": "stdout",
     "output_type": "stream",
     "text": [
      "16\n"
     ]
    }
   ],
   "source": [
    "n=int(input())\n",
    "a=[int(i) for i in input().split()]\n",
    "\n",
    "ans = float(\"inf\")\n",
    "for i in range(2**(n-1)):\n",
    "    itr=0\n",
    "    list_or=[]\n",
    "    for b in range(n-1):\n",
    "        if (i>>b)&1:\n",
    "            elem_or=0\n",
    "            for a_part in a[itr:b+1]:\n",
    "                elem_or=elem_or|a_part\n",
    "            list_or.append(elem_or)\n",
    "            itr=b+1\n",
    "    else:\n",
    "        elem_or=0\n",
    "        for a_part in a[itr:]:\n",
    "            elem_or=elem_or|a_part\n",
    "        list_or.append(elem_or)\n",
    "        \n",
    "    xor=0\n",
    "    for ll in list_or:\n",
    "        xor=xor^ll\n",
    "    ans=min(ans,xor)\n",
    "print(ans)"
   ]
  },
  {
   "cell_type": "markdown",
   "metadata": {},
   "source": [
    "# D"
   ]
  },
  {
   "cell_type": "code",
   "execution_count": 48,
   "metadata": {},
   "outputs": [
    {
     "name": "stdout",
     "output_type": "stream",
     "text": [
      "5.933012701892219 2.3839745962155616\n"
     ]
    }
   ],
   "source": [
    "import numpy as np\n",
    "from math import *\n",
    "\n",
    "N=int(input())\n",
    "\n",
    "x_0,y_0=map(int,input().split())\n",
    "x_op,y_op=map(int,input().split())\n",
    "\n",
    "x_mid=(x_0+x_op)/2\n",
    "y_mid=(y_0+y_op)/2\n",
    "\n",
    "# 中点を原点に移動\n",
    "x=x_0-x_mid\n",
    "y=y_0-y_mid\n",
    "\n",
    "# 回転\n",
    "theta=radians(360/N) \n",
    "rot = np.matrix([[cos(theta),sin(theta)],[-sin(theta),cos(theta)]])\n",
    "p=np.matrix([[x,y]])\n",
    "\n",
    "# 回転中心を元の位置に戻す\n",
    "p_rotated=sum((p@rot).tolist(),[])\n",
    "print(p_rotated[0]+x_mid,p_rotated[1]+y_mid)"
   ]
  }
 ],
 "metadata": {
  "kernelspec": {
   "display_name": "Python 3",
   "language": "python",
   "name": "python3"
  },
  "language_info": {
   "codemirror_mode": {
    "name": "ipython",
    "version": 3
   },
   "file_extension": ".py",
   "mimetype": "text/x-python",
   "name": "python",
   "nbconvert_exporter": "python",
   "pygments_lexer": "ipython3",
   "version": "3.8.3"
  }
 },
 "nbformat": 4,
 "nbformat_minor": 4
}
