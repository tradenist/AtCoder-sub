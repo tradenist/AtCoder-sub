{
 "cells": [
  {
   "cell_type": "markdown",
   "metadata": {},
   "source": [
    "# A"
   ]
  },
  {
   "cell_type": "code",
   "execution_count": 2,
   "metadata": {},
   "outputs": [
    {
     "name": "stdout",
     "output_type": "stream",
     "text": [
      "10 125\n",
      "No\n"
     ]
    }
   ],
   "source": [
    "m,h=map(int,input().split())\n",
    "print(\"Yes\" if h%m==0 else \"No\")"
   ]
  },
  {
   "cell_type": "markdown",
   "metadata": {},
   "source": [
    "# B"
   ]
  },
  {
   "cell_type": "code",
   "execution_count": 16,
   "metadata": {
    "collapsed": true
   },
   "outputs": [
    {
     "name": "stdout",
     "output_type": "stream",
     "text": [
      "120 150 2\n",
      "1950.0\n",
      "1920.0\n",
      "1890.0\n",
      "1860.0\n",
      "1980.0\n",
      "1950.0\n",
      "1920.0\n",
      "1890.0\n",
      "1860.0\n",
      "1980.0\n",
      "1950.0\n",
      "1920.0\n",
      "1890.0\n",
      "1860.0\n",
      "1980.0\n",
      "1950.0\n",
      "1920.0\n",
      "UNSATISFIABLE\n",
      "[]\n"
     ]
    }
   ],
   "source": [
    "a,b,w=map(float,input().split())\n",
    "w=int(w*1000)\n",
    "\n",
    "ans=[]\n",
    "for i in range(1,w+1):\n",
    "    if a <= w/i <= b:\n",
    "        ans.append(i)\n",
    "\n",
    "if ans==[]:\n",
    "    print(\"UNSATISFIABLE\")\n",
    "else:\n",
    "    print(min(ans),max(ans))"
   ]
  },
  {
   "cell_type": "markdown",
   "metadata": {},
   "source": [
    "# C"
   ]
  },
  {
   "cell_type": "code",
   "execution_count": 26,
   "metadata": {},
   "outputs": [
    {
     "name": "stdout",
     "output_type": "stream",
     "text": [
      "1010\n"
     ]
    },
    {
     "data": {
      "text/plain": [
       "-1000"
      ]
     },
     "execution_count": 26,
     "metadata": {},
     "output_type": "execute_result"
    }
   ],
   "source": [
    "N=int(input())+1\n",
    "ans=0\n",
    "for i in range(1,10):\n",
    "    if N-1000**i<0:\n",
    "        break\n",
    "    ans+=N-1000**i\n",
    "print(ans)"
   ]
  },
  {
   "cell_type": "markdown",
   "metadata": {},
   "source": [
    "# D "
   ]
  },
  {
   "cell_type": "code",
   "execution_count": 35,
   "metadata": {},
   "outputs": [
    {
     "name": "stdout",
     "output_type": "stream",
     "text": [
      "3 4 3\n",
      "1 9\n",
      "5 3\n",
      "7 8\n",
      "1 6 8 9 \n"
     ]
    }
   ],
   "source": [
    "N,M,Q=map(int,input().split())\n",
    "WV=[[int(i) for i in input().split()] for _ in range(N)]\n",
    "WV.sort(key=lambda x:[-x[1],x[0]])\n",
    "x=[int(i) for i in input().split()]\n",
    "\n",
    "# 各クエリに対し、小さい箱から順に収容可能なもののなかで一番価値の高い荷物を詰める\n",
    "for _ in range(Q):\n",
    "    q=[int(i) for i in input().split()]\n",
    "    x_under_q = x[:q[0]-1]+x[q[1]:]\n",
    "    x_under_q.sort()\n",
    "    WV_under_q=WV.copy()\n",
    "\n",
    "    ans=0\n",
    "    for box_size in x_under_q:\n",
    "        for i in range(len(WV_under_q)):\n",
    "            if WV_under_q[i][0]<=box_size:\n",
    "                ans+=WV_under_q[i][1]\n",
    "                # 最悪な処理だが、popよりはマシっぽい\n",
    "                WV_under_q=WV_under_q[:i]+WV_under_q[i+1:]\n",
    "                break\n",
    "    print(ans)"
   ]
  },
  {
   "cell_type": "code",
   "execution_count": null,
   "metadata": {},
   "outputs": [],
   "source": []
  }
 ],
 "metadata": {
  "kernelspec": {
   "display_name": "Python 3",
   "language": "python",
   "name": "python3"
  },
  "language_info": {
   "codemirror_mode": {
    "name": "ipython",
    "version": 3
   },
   "file_extension": ".py",
   "mimetype": "text/x-python",
   "name": "python",
   "nbconvert_exporter": "python",
   "pygments_lexer": "ipython3",
   "version": "3.8.3"
  }
 },
 "nbformat": 4,
 "nbformat_minor": 4
}
