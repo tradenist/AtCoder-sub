{
 "cells": [
  {
   "cell_type": "markdown",
   "metadata": {},
   "source": [
    "# A"
   ]
  },
  {
   "cell_type": "code",
   "execution_count": 4,
   "metadata": {},
   "outputs": [
    {
     "name": "stdout",
     "output_type": "stream",
     "text": [
      "0 0\n",
      "4\n"
     ]
    }
   ],
   "source": [
    "a,b=map(int,input().split())\n",
    "\n",
    "if a+b>=15 and b>=8:\n",
    "    print(1)\n",
    "elif a+b>=10 and b>=3:\n",
    "    print(2)\n",
    "elif a+b>=3:\n",
    "    print(3)\n",
    "else:\n",
    "    print(4)"
   ]
  },
  {
   "cell_type": "code",
   "execution_count": 5,
   "metadata": {},
   "outputs": [],
   "source": [
    "# B"
   ]
  },
  {
   "cell_type": "code",
   "execution_count": 7,
   "metadata": {},
   "outputs": [
    {
     "name": "stdout",
     "output_type": "stream",
     "text": [
      "3\n",
      "11 7\n",
      "3 2\n",
      "6 7\n",
      "5\n"
     ]
    }
   ],
   "source": [
    "n=int(input())\n",
    "ab=[]\n",
    "for i in range(n):\n",
    "    ab.append([i]+[int(i) for i in input().split()])\n",
    "a=sorted(ab,key=lambda x:x[1])\n",
    "b=sorted(ab,key=lambda x:x[2])\n",
    "\n",
    "if a[0][0]!=b[0][0]:\n",
    "    print(max(a[0][1],b[0][2]))\n",
    "else:\n",
    "    max(a[0][1]+b[0][2],max(a[0][1],b[1][2]),max(a[1][1],b[][2]))"
   ]
  },
  {
   "cell_type": "code",
   "execution_count": 8,
   "metadata": {},
   "outputs": [],
   "source": [
    "# C"
   ]
  },
  {
   "cell_type": "code",
   "execution_count": 39,
   "metadata": {},
   "outputs": [
    {
     "name": "stdout",
     "output_type": "stream",
     "text": [
      "3\n",
      "2 8 4\n"
     ]
    },
    {
     "data": {
      "text/plain": [
       "56"
      ]
     },
     "execution_count": 39,
     "metadata": {},
     "output_type": "execute_result"
    }
   ],
   "source": [
    "n=int(input())\n",
    "a=[int(i) for i in input().split()]\n",
    "a_2=[i**2 for i in a]\n",
    "\n",
    "print(n*sum(a_2) - sum(a)**2)"
   ]
  },
  {
   "cell_type": "code",
   "execution_count": 40,
   "metadata": {},
   "outputs": [],
   "source": [
    "# D"
   ]
  },
  {
   "cell_type": "code",
   "execution_count": null,
   "metadata": {},
   "outputs": [],
   "source": [
    "すべての点が選ばれるまでの試行回数の期待値\n",
    "⇒選ばれていない点が選ばれる確率の逆数の和\n",
    "\n",
    "たとえばn=3\n",
    " (2/3)^-1 +(1/3)^-1"
   ]
  },
  {
   "cell_type": "code",
   "execution_count": 42,
   "metadata": {},
   "outputs": [
    {
     "name": "stdout",
     "output_type": "stream",
     "text": [
      "3\n",
      "4.5\n"
     ]
    }
   ],
   "source": [
    "n=int(input())\n",
    "\n",
    "ans=0\n",
    "for i in range(1,n):\n",
    "    ans+=n/(n-i)\n",
    "print(ans)"
   ]
  },
  {
   "cell_type": "code",
   "execution_count": 43,
   "metadata": {},
   "outputs": [],
   "source": [
    "# E"
   ]
  },
  {
   "cell_type": "code",
   "execution_count": null,
   "metadata": {},
   "outputs": [],
   "source": [
    "尺取りでよさそう"
   ]
  },
  {
   "cell_type": "code",
   "execution_count": 80,
   "metadata": {},
   "outputs": [
    {
     "name": "stdout",
     "output_type": "stream",
     "text": [
      "3 2\n",
      "1 1 1\n"
     ]
    }
   ],
   "source": [
    "n,m=map(int,input().split())\n",
    "a=[int(i) for i in input().split()]"
   ]
  },
  {
   "cell_type": "code",
   "execution_count": 82,
   "metadata": {},
   "outputs": [
    {
     "name": "stdout",
     "output_type": "stream",
     "text": [
      "[1]\n"
     ]
    },
    {
     "data": {
      "text/plain": [
       "[0]"
      ]
     },
     "execution_count": 82,
     "metadata": {},
     "output_type": "execute_result"
    }
   ],
   "source": [
    "n,m=map(int,input().split())\n",
    "a=[int(i) for i in input().split()]\n",
    "\n",
    "ans_list=[]\n",
    "a_s=set(a[:m])\n",
    "for i in range(n+1):\n",
    "    if i not in a_s:\n",
    "        ans_list.append(i)\n",
    "        break\n",
    "\n",
    "#あとは\n",
    "for i in range(n-m):\n",
    "    print(a[i+1:i+m])\n",
    "    if a[i] not in a[i+1:i+m] and a[i]<=ans_list[-1]-1:\n",
    "        #a[i]=a[i+m+1]なら答えの更新はなし\n",
    "        #そうでなければ応えはa[i]\n",
    "        if a[i]==a[i+m]:\n",
    "            continue\n",
    "        else:\n",
    "            ans_list.append(a[i])\n",
    "    elif a[i+m]==ans_list[-1]:\n",
    "        #こうなると範囲内で答えを探しなおすことになる\n",
    "        for i in range(ans_list[-1],n+1):\n",
    "            if i not in set(a[i+1:i+m+1]):\n",
    "                ans_list.append(i)\n",
    "                break\n",
    "        \n",
    "min(ans_list)    "
   ]
  }
 ],
 "metadata": {
  "kernelspec": {
   "display_name": "Python 3",
   "language": "python",
   "name": "python3"
  },
  "language_info": {
   "codemirror_mode": {
    "name": "ipython",
    "version": 3
   },
   "file_extension": ".py",
   "mimetype": "text/x-python",
   "name": "python",
   "nbconvert_exporter": "python",
   "pygments_lexer": "ipython3",
   "version": "3.8.3"
  }
 },
 "nbformat": 4,
 "nbformat_minor": 4
}
