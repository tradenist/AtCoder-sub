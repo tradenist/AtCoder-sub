{
 "cells": [
  {
   "cell_type": "markdown",
   "metadata": {},
   "source": [
    "# A"
   ]
  },
  {
   "cell_type": "code",
   "execution_count": 2,
   "metadata": {},
   "outputs": [
    {
     "name": "stdout",
     "output_type": "stream",
     "text": [
      "1000\n",
      "100\n"
     ]
    }
   ],
   "source": [
    "x=int(input())%100\n",
    "print(100-x)\n"
   ]
  },
  {
   "cell_type": "markdown",
   "metadata": {},
   "source": [
    "# B"
   ]
  },
  {
   "cell_type": "code",
   "execution_count": 10,
   "metadata": {},
   "outputs": [
    {
     "name": "stdout",
     "output_type": "stream",
     "text": [
      "S\n",
      "No\n"
     ]
    }
   ],
   "source": [
    "s=input()\n",
    "if s[::2]==s[::2].lower() and s[1::2]==s[1::2].upper():\n",
    "    print(\"Yes\")\n",
    "else:\n",
    "    print(\"No\")"
   ]
  },
  {
   "cell_type": "markdown",
   "metadata": {},
   "source": [
    "# C"
   ]
  },
  {
   "cell_type": "code",
   "execution_count": 25,
   "metadata": {},
   "outputs": [
    {
     "name": "stdout",
     "output_type": "stream",
     "text": [
      "0\n"
     ]
    }
   ],
   "source": [
    "n,k=map(int,input().split())\n",
    "\n",
    "def g1(x):\n",
    "    return int(\"\".join(sorted(list(str(x)),reverse=True)))\n",
    "def g2(x):\n",
    "    return int(\"\".join(sorted(list(str(x)))))\n",
    "\n",
    "\n",
    "x=n\n",
    "for _ in range(k):\n",
    "    x=g1(x)-g2(x)\n",
    "print(x)"
   ]
  },
  {
   "cell_type": "markdown",
   "metadata": {},
   "source": [
    "# D問題"
   ]
  },
  {
   "cell_type": "code",
   "execution_count": null,
   "metadata": {},
   "outputs": [],
   "source": [
    "# intが36進数までしか対応していなかったのでRE\n",
    "# そもそも普通にTLEしそう\n",
    "x=input()\n",
    "m=int(input())\n",
    " \n",
    "d=int(sorted(x)[-1])\n",
    " \n",
    "b=d+1\n",
    "cnt=0\n",
    "while 1:\n",
    "    if int(x, b)<=m:\n",
    "        cnt+=1\n",
    "        b+=1\n",
    "    else:\n",
    "        break\n",
    "print(cnt)"
   ]
  },
  {
   "cell_type": "code",
   "execution_count": 65,
   "metadata": {
    "scrolled": true
   },
   "outputs": [
    {
     "name": "stdout",
     "output_type": "stream",
     "text": [
      "22\n",
      "10\n",
      "2\n"
     ]
    }
   ],
   "source": [
    "# 二分探索を利用して答えを探る\n",
    "\n",
    "x=input()\n",
    "m=int(input())\n",
    "d=int(sorted(x)[-1])\n",
    "\n",
    "# xが一桁だった場合の処理\n",
    "if len(x)==1:\n",
    "    print(int(int(x[0])<=m))\n",
    "    exit()\n",
    "\n",
    "# base進数のstr(x)を10進数に変換\n",
    "def enc_base_to_10(x,base):\n",
    "    n=0\n",
    "    for i in x:\n",
    "        n=n*base+int(i)\n",
    "    return n\n",
    "\n",
    "# 二分探索\n",
    "l,r=d,m+1\n",
    "while r-l>1:\n",
    "    c=(r+l)//2\n",
    "    if enc_base_to_10(x,c)>m:\n",
    "        r=c\n",
    "    else:\n",
    "        l=c\n",
    "\n",
    "print(l-d)"
   ]
  },
  {
   "cell_type": "markdown",
   "metadata": {},
   "source": [
    "# E問題"
   ]
  },
  {
   "cell_type": "code",
   "execution_count": 68,
   "metadata": {},
   "outputs": [],
   "source": [
    "# コストの計算に時間をのせたダイクストラ法で解く"
   ]
  },
  {
   "cell_type": "code",
   "execution_count": 92,
   "metadata": {},
   "outputs": [
    {
     "name": "stdout",
     "output_type": "stream",
     "text": [
      "5\n"
     ]
    }
   ],
   "source": [
    "from heapq import heappop,heappush\n",
    "from math import ceil\n",
    "\n",
    "N,M,X,Y=map(int,input().split())\n",
    "X-=1\n",
    "Y-=1\n",
    "d_matrix=[[] for _ in range(N)]\n",
    "for _ in range(M):\n",
    "    A,B,T,K=map(int,input().split())\n",
    "    A-=1\n",
    "    B-=1\n",
    "    d_matrix[A].append([B,T,K])\n",
    "    d_matrix[B].append([A,T,K])\n",
    "\n",
    "def dijkstra(s,n):\n",
    "    dist=[float(\"inf\")]*n\n",
    "    check=[False]*n\n",
    "    q=[[0,s]]\n",
    "    dist[s]=0\n",
    "    while q:\n",
    "        v=heappop(q)[1]\n",
    "        check[v]=True\n",
    "        for to,t,k in d_matrix[v]:\n",
    "            cost=ceil(dist[v]/k)*k+t\n",
    "            if check[to]==False and dist[to]>cost:\n",
    "                dist[to]=cost\n",
    "                heappush(q,[cost,to])\n",
    "    return dist\n",
    "\n",
    "ans=dijkstra(X,N)[Y]\n",
    "print(ans if ans!=float(\"inf\") else -1)"
   ]
  },
  {
   "cell_type": "code",
   "execution_count": null,
   "metadata": {},
   "outputs": [],
   "source": []
  }
 ],
 "metadata": {
  "kernelspec": {
   "display_name": "Python 3",
   "language": "python",
   "name": "python3"
  },
  "language_info": {
   "codemirror_mode": {
    "name": "ipython",
    "version": 3
   },
   "file_extension": ".py",
   "mimetype": "text/x-python",
   "name": "python",
   "nbconvert_exporter": "python",
   "pygments_lexer": "ipython3",
   "version": "3.8.3"
  }
 },
 "nbformat": 4,
 "nbformat_minor": 4
}
